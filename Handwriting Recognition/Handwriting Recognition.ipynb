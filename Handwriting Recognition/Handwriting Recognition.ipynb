{
 "cells": [
  {
   "cell_type": "code",
   "execution_count": 1,
   "metadata": {},
   "outputs": [
    {
     "name": "stdout",
     "output_type": "stream",
     "text": [
      "CPU times: user 1.03 s, sys: 353 ms, total: 1.38 s\n",
      "Wall time: 1.4 s\n"
     ]
    }
   ],
   "source": [
    "%%time\n",
    "import network as network\n",
    "import drawing as drawing\n",
    "import pickle as pickle\n",
    "import mnist_loader\n",
    "\n",
    "# Load training data and validation data\n",
    "import mnist_loader\n",
    "training_data, validation_data, test_data = mnist_loader.load_data_wrapper()"
   ]
  },
  {
   "cell_type": "code",
   "execution_count": 2,
   "metadata": {},
   "outputs": [],
   "source": [
    "# Network Hyper-parameters\n",
    "net_design = [784, 320, 160, 100, 10]\n",
    "learning_rate = 0.5\n",
    "rate_reduce = 0.95\n",
    "epoch = 10\n",
    "mini_batch = 25\n",
    "\n",
    "file_name = \"my_network\""
   ]
  },
  {
   "cell_type": "code",
   "execution_count": 3,
   "metadata": {},
   "outputs": [],
   "source": [
    "# Initiate network\n",
    "net = network.Network(net_design)"
   ]
  },
  {
   "cell_type": "code",
   "execution_count": 4,
   "metadata": {},
   "outputs": [
    {
     "name": "stdout",
     "output_type": "stream",
     "text": [
      "##### Training Started #####\n",
      "=> Epoch 0 Completed\n",
      "Training Cost : 7.0693 - Accuracy : 0.5430\n",
      "Evaluation Cost : 19.7839 - Accuracy : 0.5479\n",
      "=> Epoch 1 Completed\n",
      "Training Cost : 5.3194 - Accuracy : 0.7656\n",
      "Evaluation Cost : 18.0387 - Accuracy : 0.7690\n",
      "=> Epoch 2 Completed\n",
      "Training Cost : 5.0268 - Accuracy : 0.8001\n",
      "Evaluation Cost : 17.7820 - Accuracy : 0.7929\n",
      "=> Epoch 3 Completed\n",
      "Training Cost : 4.8511 - Accuracy : 0.8146\n",
      "Evaluation Cost : 17.6258 - Accuracy : 0.8057\n",
      "=> Epoch 4 Completed\n",
      "Training Cost : 4.6177 - Accuracy : 0.8286\n",
      "Evaluation Cost : 17.4082 - Accuracy : 0.8171\n",
      "=> Epoch 5 Completed\n",
      "Training Cost : 3.8541 - Accuracy : 0.9055\n",
      "Evaluation Cost : 16.6346 - Accuracy : 0.8918\n",
      "=> Epoch 6 Completed\n",
      "Training Cost : 3.7715 - Accuracy : 0.9206\n",
      "Evaluation Cost : 16.5622 - Accuracy : 0.9018\n",
      "=> Epoch 7 Completed\n",
      "Training Cost : 3.7180 - Accuracy : 0.9287\n",
      "Evaluation Cost : 16.5183 - Accuracy : 0.9104\n",
      "=> Epoch 8 Completed\n",
      "Training Cost : 3.6853 - Accuracy : 0.9338\n",
      "Evaluation Cost : 16.4950 - Accuracy : 0.9139\n",
      "=> Epoch 9 Completed\n",
      "Training Cost : 3.6633 - Accuracy : 0.9383\n",
      "Evaluation Cost : 16.4799 - Accuracy : 0.9159\n",
      "CPU times: user 27min 53s, sys: 3.5 s, total: 27min 56s\n",
      "Wall time: 28min 1s\n"
     ]
    }
   ],
   "source": [
    "%%time\n",
    "# Train Network\n",
    "# net.SGD(training_data, epoch, mini_batch, learning_rate, test_data=test_data,\n",
    "#         evaluation_data=validation_data, eta_reduce_rate=rate_reduce, lmbda=1.0)\n",
    "net.SGD(training_data, epoch, mini_batch, learning_rate, evaluation_data=validation_data, eta_reduce_rate=rate_reduce, lmbda=1.0)"
   ]
  },
  {
   "cell_type": "code",
   "execution_count": 5,
   "metadata": {},
   "outputs": [],
   "source": [
    "# Save Network to file\n",
    "with open(file_name, 'wb') as f:\n",
    "    pickle.dump(net, f)"
   ]
  },
  {
   "cell_type": "code",
   "execution_count": 6,
   "metadata": {},
   "outputs": [],
   "source": [
    "# Load Network from file\n",
    "with open(file_name, 'rb') as input_file:\n",
    "    net = pickle.load(input_file)"
   ]
  },
  {
   "cell_type": "code",
   "execution_count": 7,
   "metadata": {},
   "outputs": [
    {
     "data": {
      "text/plain": [
       "<drawing.Drawing at 0x7fde111e1b10>"
      ]
     },
     "execution_count": 7,
     "metadata": {},
     "output_type": "execute_result"
    }
   ],
   "source": [
    "# Test Network with Drawing program\n",
    "drawing.Drawing(net)"
   ]
  },
  {
   "cell_type": "code",
   "execution_count": 8,
   "metadata": {},
   "outputs": [
    {
     "data": {
      "image/png": "[encoded data removed]",
      "text/plain": [
       "<matplotlib.figure.Figure at 0x7fddf3be1a50>"
      ]
     },
     "metadata": {},
     "output_type": "display_data"
    }
   ],
   "source": [
    "# Plot Accuracy Chart\n",
    "net.plot_accuracy()"
   ]
  },
  {
   "cell_type": "code",
   "execution_count": 9,
   "metadata": {},
   "outputs": [
    {
     "data": {
      "image/png": "[encoded data removed]",
      "text/plain": [
       "<matplotlib.figure.Figure at 0x7fddecebd050>"
      ]
     },
     "metadata": {},
     "output_type": "display_data"
    }
   ],
   "source": [
    "# Plot Cost Chart\n",
    "net.plot_cost()"
   ]
  },
  {
   "cell_type": "code",
   "execution_count": null,
   "metadata": {},
   "outputs": [],
   "source": []
  }
 ],
 "metadata": {
  "celltoolbar": "Edit Metadata",
  "kernelspec": {
   "display_name": "Python 2",
   "language": "python",
   "name": "python2"
  },
  "language_info": {
   "codemirror_mode": {
    "name": "ipython",
    "version": 2
   },
   "file_extension": ".py",
   "mimetype": "text/x-python",
   "name": "python",
   "nbconvert_exporter": "python",
   "pygments_lexer": "ipython2",
   "version": "2.7.12"
  }
 },
 "nbformat": 4,
 "nbformat_minor": 2
}
